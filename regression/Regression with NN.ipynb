{
 "cells": [
  {
   "cell_type": "markdown",
   "metadata": {},
   "source": [
    "Import all needed modules"
   ]
  },
  {
   "cell_type": "code",
   "execution_count": 1,
   "metadata": {},
   "outputs": [],
   "source": [
    "import sqlite3\n",
    "import pandas as pd \n",
    "from sklearn.tree import DecisionTreeRegressor\n",
    "from sklearn.linear_model import LinearRegression\n",
    "from sklearn.model_selection import train_test_split\n",
    "from sklearn.metrics import mean_squared_error\n",
    "from math import sqrt"
   ]
  },
  {
   "cell_type": "code",
   "execution_count": 2,
   "metadata": {},
   "outputs": [],
   "source": [
    "# Create your connection.\n",
    "cnx = sqlite3.connect('database.sqlite')\n",
    "df = pd.read_sql_query(\"SELECT * FROM Player_Attributes\", cnx)"
   ]
  },
  {
   "cell_type": "code",
   "execution_count": 3,
   "metadata": {},
   "outputs": [
    {
     "data": {
      "text/html": [
       "<div>\n",
       "<style scoped>\n",
       "    .dataframe tbody tr th:only-of-type {\n",
       "        vertical-align: middle;\n",
       "    }\n",
       "\n",
       "    .dataframe tbody tr th {\n",
       "        vertical-align: top;\n",
       "    }\n",
       "\n",
       "    .dataframe thead th {\n",
       "        text-align: right;\n",
       "    }\n",
       "</style>\n",
       "<table border=\"1\" class=\"dataframe\">\n",
       "  <thead>\n",
       "    <tr style=\"text-align: right;\">\n",
       "      <th></th>\n",
       "      <th>id</th>\n",
       "      <th>player_fifa_api_id</th>\n",
       "      <th>player_api_id</th>\n",
       "      <th>date</th>\n",
       "      <th>overall_rating</th>\n",
       "      <th>potential</th>\n",
       "      <th>preferred_foot</th>\n",
       "      <th>attacking_work_rate</th>\n",
       "      <th>defensive_work_rate</th>\n",
       "      <th>crossing</th>\n",
       "      <th>...</th>\n",
       "      <th>vision</th>\n",
       "      <th>penalties</th>\n",
       "      <th>marking</th>\n",
       "      <th>standing_tackle</th>\n",
       "      <th>sliding_tackle</th>\n",
       "      <th>gk_diving</th>\n",
       "      <th>gk_handling</th>\n",
       "      <th>gk_kicking</th>\n",
       "      <th>gk_positioning</th>\n",
       "      <th>gk_reflexes</th>\n",
       "    </tr>\n",
       "  </thead>\n",
       "  <tbody>\n",
       "    <tr>\n",
       "      <th>0</th>\n",
       "      <td>1</td>\n",
       "      <td>218353</td>\n",
       "      <td>505942</td>\n",
       "      <td>2016-02-18 00:00:00</td>\n",
       "      <td>67.0</td>\n",
       "      <td>71.0</td>\n",
       "      <td>right</td>\n",
       "      <td>medium</td>\n",
       "      <td>medium</td>\n",
       "      <td>49.0</td>\n",
       "      <td>...</td>\n",
       "      <td>54.0</td>\n",
       "      <td>48.0</td>\n",
       "      <td>65.0</td>\n",
       "      <td>69.0</td>\n",
       "      <td>69.0</td>\n",
       "      <td>6.0</td>\n",
       "      <td>11.0</td>\n",
       "      <td>10.0</td>\n",
       "      <td>8.0</td>\n",
       "      <td>8.0</td>\n",
       "    </tr>\n",
       "    <tr>\n",
       "      <th>1</th>\n",
       "      <td>2</td>\n",
       "      <td>218353</td>\n",
       "      <td>505942</td>\n",
       "      <td>2015-11-19 00:00:00</td>\n",
       "      <td>67.0</td>\n",
       "      <td>71.0</td>\n",
       "      <td>right</td>\n",
       "      <td>medium</td>\n",
       "      <td>medium</td>\n",
       "      <td>49.0</td>\n",
       "      <td>...</td>\n",
       "      <td>54.0</td>\n",
       "      <td>48.0</td>\n",
       "      <td>65.0</td>\n",
       "      <td>69.0</td>\n",
       "      <td>69.0</td>\n",
       "      <td>6.0</td>\n",
       "      <td>11.0</td>\n",
       "      <td>10.0</td>\n",
       "      <td>8.0</td>\n",
       "      <td>8.0</td>\n",
       "    </tr>\n",
       "    <tr>\n",
       "      <th>2</th>\n",
       "      <td>3</td>\n",
       "      <td>218353</td>\n",
       "      <td>505942</td>\n",
       "      <td>2015-09-21 00:00:00</td>\n",
       "      <td>62.0</td>\n",
       "      <td>66.0</td>\n",
       "      <td>right</td>\n",
       "      <td>medium</td>\n",
       "      <td>medium</td>\n",
       "      <td>49.0</td>\n",
       "      <td>...</td>\n",
       "      <td>54.0</td>\n",
       "      <td>48.0</td>\n",
       "      <td>65.0</td>\n",
       "      <td>66.0</td>\n",
       "      <td>69.0</td>\n",
       "      <td>6.0</td>\n",
       "      <td>11.0</td>\n",
       "      <td>10.0</td>\n",
       "      <td>8.0</td>\n",
       "      <td>8.0</td>\n",
       "    </tr>\n",
       "    <tr>\n",
       "      <th>3</th>\n",
       "      <td>4</td>\n",
       "      <td>218353</td>\n",
       "      <td>505942</td>\n",
       "      <td>2015-03-20 00:00:00</td>\n",
       "      <td>61.0</td>\n",
       "      <td>65.0</td>\n",
       "      <td>right</td>\n",
       "      <td>medium</td>\n",
       "      <td>medium</td>\n",
       "      <td>48.0</td>\n",
       "      <td>...</td>\n",
       "      <td>53.0</td>\n",
       "      <td>47.0</td>\n",
       "      <td>62.0</td>\n",
       "      <td>63.0</td>\n",
       "      <td>66.0</td>\n",
       "      <td>5.0</td>\n",
       "      <td>10.0</td>\n",
       "      <td>9.0</td>\n",
       "      <td>7.0</td>\n",
       "      <td>7.0</td>\n",
       "    </tr>\n",
       "    <tr>\n",
       "      <th>4</th>\n",
       "      <td>5</td>\n",
       "      <td>218353</td>\n",
       "      <td>505942</td>\n",
       "      <td>2007-02-22 00:00:00</td>\n",
       "      <td>61.0</td>\n",
       "      <td>65.0</td>\n",
       "      <td>right</td>\n",
       "      <td>medium</td>\n",
       "      <td>medium</td>\n",
       "      <td>48.0</td>\n",
       "      <td>...</td>\n",
       "      <td>53.0</td>\n",
       "      <td>47.0</td>\n",
       "      <td>62.0</td>\n",
       "      <td>63.0</td>\n",
       "      <td>66.0</td>\n",
       "      <td>5.0</td>\n",
       "      <td>10.0</td>\n",
       "      <td>9.0</td>\n",
       "      <td>7.0</td>\n",
       "      <td>7.0</td>\n",
       "    </tr>\n",
       "  </tbody>\n",
       "</table>\n",
       "<p>5 rows × 42 columns</p>\n",
       "</div>"
      ],
      "text/plain": [
       "   id  player_fifa_api_id  player_api_id                 date  overall_rating  \\\n",
       "0   1              218353         505942  2016-02-18 00:00:00            67.0   \n",
       "1   2              218353         505942  2015-11-19 00:00:00            67.0   \n",
       "2   3              218353         505942  2015-09-21 00:00:00            62.0   \n",
       "3   4              218353         505942  2015-03-20 00:00:00            61.0   \n",
       "4   5              218353         505942  2007-02-22 00:00:00            61.0   \n",
       "\n",
       "   potential preferred_foot attacking_work_rate defensive_work_rate  crossing  \\\n",
       "0       71.0          right              medium              medium      49.0   \n",
       "1       71.0          right              medium              medium      49.0   \n",
       "2       66.0          right              medium              medium      49.0   \n",
       "3       65.0          right              medium              medium      48.0   \n",
       "4       65.0          right              medium              medium      48.0   \n",
       "\n",
       "   ...  vision  penalties  marking  standing_tackle  sliding_tackle  \\\n",
       "0  ...    54.0       48.0     65.0             69.0            69.0   \n",
       "1  ...    54.0       48.0     65.0             69.0            69.0   \n",
       "2  ...    54.0       48.0     65.0             66.0            69.0   \n",
       "3  ...    53.0       47.0     62.0             63.0            66.0   \n",
       "4  ...    53.0       47.0     62.0             63.0            66.0   \n",
       "\n",
       "   gk_diving  gk_handling  gk_kicking  gk_positioning  gk_reflexes  \n",
       "0        6.0         11.0        10.0             8.0          8.0  \n",
       "1        6.0         11.0        10.0             8.0          8.0  \n",
       "2        6.0         11.0        10.0             8.0          8.0  \n",
       "3        5.0         10.0         9.0             7.0          7.0  \n",
       "4        5.0         10.0         9.0             7.0          7.0  \n",
       "\n",
       "[5 rows x 42 columns]"
      ]
     },
     "execution_count": 3,
     "metadata": {},
     "output_type": "execute_result"
    }
   ],
   "source": [
    "df.head()"
   ]
  },
  {
   "cell_type": "code",
   "execution_count": 4,
   "metadata": {},
   "outputs": [
    {
     "name": "stdout",
     "output_type": "stream",
     "text": [
      "(183978, 42)\n",
      "42\n",
      "Index(['id', 'player_fifa_api_id', 'player_api_id', 'date', 'overall_rating',\n",
      "       'potential', 'preferred_foot', 'attacking_work_rate',\n",
      "       'defensive_work_rate', 'crossing', 'finishing', 'heading_accuracy',\n",
      "       'short_passing', 'volleys', 'dribbling', 'curve', 'free_kick_accuracy',\n",
      "       'long_passing', 'ball_control', 'acceleration', 'sprint_speed',\n",
      "       'agility', 'reactions', 'balance', 'shot_power', 'jumping', 'stamina',\n",
      "       'strength', 'long_shots', 'aggression', 'interceptions', 'positioning',\n",
      "       'vision', 'penalties', 'marking', 'standing_tackle', 'sliding_tackle',\n",
      "       'gk_diving', 'gk_handling', 'gk_kicking', 'gk_positioning',\n",
      "       'gk_reflexes'],\n",
      "      dtype='object')\n"
     ]
    }
   ],
   "source": [
    "print(df.shape)\n",
    "print(len(df.columns))\n",
    "print(df.columns)"
   ]
  },
  {
   "cell_type": "code",
   "execution_count": 5,
   "metadata": {},
   "outputs": [
    {
     "data": {
      "text/plain": [
       "id                       int64\n",
       "player_fifa_api_id       int64\n",
       "player_api_id            int64\n",
       "date                    object\n",
       "overall_rating         float64\n",
       "potential              float64\n",
       "preferred_foot          object\n",
       "attacking_work_rate     object\n",
       "defensive_work_rate     object\n",
       "crossing               float64\n",
       "finishing              float64\n",
       "heading_accuracy       float64\n",
       "short_passing          float64\n",
       "volleys                float64\n",
       "dribbling              float64\n",
       "curve                  float64\n",
       "free_kick_accuracy     float64\n",
       "long_passing           float64\n",
       "ball_control           float64\n",
       "acceleration           float64\n",
       "sprint_speed           float64\n",
       "agility                float64\n",
       "reactions              float64\n",
       "balance                float64\n",
       "shot_power             float64\n",
       "jumping                float64\n",
       "stamina                float64\n",
       "strength               float64\n",
       "long_shots             float64\n",
       "aggression             float64\n",
       "interceptions          float64\n",
       "positioning            float64\n",
       "vision                 float64\n",
       "penalties              float64\n",
       "marking                float64\n",
       "standing_tackle        float64\n",
       "sliding_tackle         float64\n",
       "gk_diving              float64\n",
       "gk_handling            float64\n",
       "gk_kicking             float64\n",
       "gk_positioning         float64\n",
       "gk_reflexes            float64\n",
       "dtype: object"
      ]
     },
     "execution_count": 5,
     "metadata": {},
     "output_type": "execute_result"
    }
   ],
   "source": [
    "df.dtypes"
   ]
  },
  {
   "cell_type": "code",
   "execution_count": 6,
   "metadata": {},
   "outputs": [],
   "source": [
    "#usefull features\n",
    "#dropping ids with datatype int and fields with object data type\n",
    "features = [\n",
    "       'potential', 'crossing', 'finishing', 'heading_accuracy',\n",
    "       'short_passing', 'volleys', 'dribbling', 'curve', 'free_kick_accuracy',\n",
    "       'long_passing', 'ball_control', 'acceleration', 'sprint_speed',\n",
    "       'agility', 'reactions', 'balance', 'shot_power', 'jumping', 'stamina',\n",
    "       'strength', 'long_shots', 'aggression', 'interceptions', 'positioning',\n",
    "       'vision', 'penalties', 'marking', 'standing_tackle', 'sliding_tackle',\n",
    "       'gk_diving', 'gk_handling', 'gk_kicking', 'gk_positioning',\n",
    "       'gk_reflexes']"
   ]
  },
  {
   "cell_type": "code",
   "execution_count": 7,
   "metadata": {},
   "outputs": [],
   "source": [
    "target = ['overall_rating']"
   ]
  },
  {
   "cell_type": "code",
   "execution_count": 8,
   "metadata": {},
   "outputs": [
    {
     "data": {
      "text/plain": [
       "id                     False\n",
       "player_fifa_api_id     False\n",
       "player_api_id          False\n",
       "date                   False\n",
       "overall_rating          True\n",
       "potential               True\n",
       "preferred_foot          True\n",
       "attacking_work_rate     True\n",
       "defensive_work_rate     True\n",
       "crossing                True\n",
       "finishing               True\n",
       "heading_accuracy        True\n",
       "short_passing           True\n",
       "volleys                 True\n",
       "dribbling               True\n",
       "curve                   True\n",
       "free_kick_accuracy      True\n",
       "long_passing            True\n",
       "ball_control            True\n",
       "acceleration            True\n",
       "sprint_speed            True\n",
       "agility                 True\n",
       "reactions               True\n",
       "balance                 True\n",
       "shot_power              True\n",
       "jumping                 True\n",
       "stamina                 True\n",
       "strength                True\n",
       "long_shots              True\n",
       "aggression              True\n",
       "interceptions           True\n",
       "positioning             True\n",
       "vision                  True\n",
       "penalties               True\n",
       "marking                 True\n",
       "standing_tackle         True\n",
       "sliding_tackle          True\n",
       "gk_diving               True\n",
       "gk_handling             True\n",
       "gk_kicking              True\n",
       "gk_positioning          True\n",
       "gk_reflexes             True\n",
       "dtype: bool"
      ]
     },
     "execution_count": 8,
     "metadata": {},
     "output_type": "execute_result"
    }
   ],
   "source": [
    "df.isnull().any()"
   ]
  },
  {
   "cell_type": "code",
   "execution_count": 11,
   "metadata": {},
   "outputs": [
    {
     "name": "stdout",
     "output_type": "stream",
     "text": [
      "Total rows having null vales:  0\n",
      "\n"
     ]
    }
   ],
   "source": [
    "prev=df.shape[0]\n",
    "present=df.dropna().shape[0]\n",
    "diff=prev-present\n",
    "print(\"Total rows having null vales: \",diff)\n",
    "print()\n",
    "#print(df.isnull().any())"
   ]
  },
  {
   "cell_type": "code",
   "execution_count": 12,
   "metadata": {},
   "outputs": [],
   "source": [
    "#droping Null values\n",
    "df=df.dropna()"
   ]
  },
  {
   "cell_type": "code",
   "execution_count": 13,
   "metadata": {},
   "outputs": [],
   "source": [
    "#extracting features in another dataframes\n",
    "Xfeature = df[features]\n",
    "ylabel = df[target]"
   ]
  },
  {
   "cell_type": "markdown",
   "metadata": {},
   "source": [
    "Data"
   ]
  },
  {
   "cell_type": "code",
   "execution_count": 14,
   "metadata": {},
   "outputs": [
    {
     "data": {
      "text/plain": [
       "potential             66.0\n",
       "crossing              49.0\n",
       "finishing             44.0\n",
       "heading_accuracy      71.0\n",
       "short_passing         61.0\n",
       "volleys               44.0\n",
       "dribbling             51.0\n",
       "curve                 45.0\n",
       "free_kick_accuracy    39.0\n",
       "long_passing          64.0\n",
       "ball_control          49.0\n",
       "acceleration          60.0\n",
       "sprint_speed          64.0\n",
       "agility               59.0\n",
       "reactions             47.0\n",
       "balance               65.0\n",
       "shot_power            55.0\n",
       "jumping               58.0\n",
       "stamina               54.0\n",
       "strength              76.0\n",
       "long_shots            35.0\n",
       "aggression            63.0\n",
       "interceptions         41.0\n",
       "positioning           45.0\n",
       "vision                54.0\n",
       "penalties             48.0\n",
       "marking               65.0\n",
       "standing_tackle       66.0\n",
       "sliding_tackle        69.0\n",
       "gk_diving              6.0\n",
       "gk_handling           11.0\n",
       "gk_kicking            10.0\n",
       "gk_positioning         8.0\n",
       "gk_reflexes            8.0\n",
       "Name: 2, dtype: float64"
      ]
     },
     "execution_count": 14,
     "metadata": {},
     "output_type": "execute_result"
    }
   ],
   "source": [
    "Xfeature.iloc[2]"
   ]
  },
  {
   "cell_type": "code",
   "execution_count": 15,
   "metadata": {},
   "outputs": [
    {
     "data": {
      "text/plain": [
       "overall_rating    62.0\n",
       "Name: 2, dtype: float64"
      ]
     },
     "execution_count": 15,
     "metadata": {},
     "output_type": "execute_result"
    }
   ],
   "source": [
    "ylabel.iloc[2]"
   ]
  },
  {
   "cell_type": "markdown",
   "metadata": {},
   "source": [
    "Splitting data into train and test"
   ]
  },
  {
   "cell_type": "code",
   "execution_count": 16,
   "metadata": {},
   "outputs": [],
   "source": [
    "X_train, X_test, y_train, y_test = train_test_split(Xfeature, ylabel, test_size=0.33, random_state=324)"
   ]
  },
  {
   "cell_type": "markdown",
   "metadata": {},
   "source": [
    "Using Linear regression Model"
   ]
  },
  {
   "cell_type": "code",
   "execution_count": 17,
   "metadata": {},
   "outputs": [
    {
     "name": "stdout",
     "output_type": "stream",
     "text": [
      "[[66.51284879]\n",
      " [79.77234615]\n",
      " [66.57371825]\n",
      " ...\n",
      " [69.23780133]\n",
      " [64.58351696]\n",
      " [73.6881185 ]]\n"
     ]
    }
   ],
   "source": [
    "regressor = LinearRegression()\n",
    "regressor.fit(X_train, y_train)\n",
    "y_prediction = regressor.predict(X_test)\n",
    "print(y_prediction)"
   ]
  },
  {
   "cell_type": "code",
   "execution_count": 18,
   "metadata": {},
   "outputs": [
    {
     "data": {
      "text/html": [
       "<div>\n",
       "<style scoped>\n",
       "    .dataframe tbody tr th:only-of-type {\n",
       "        vertical-align: middle;\n",
       "    }\n",
       "\n",
       "    .dataframe tbody tr th {\n",
       "        vertical-align: top;\n",
       "    }\n",
       "\n",
       "    .dataframe thead th {\n",
       "        text-align: right;\n",
       "    }\n",
       "</style>\n",
       "<table border=\"1\" class=\"dataframe\">\n",
       "  <thead>\n",
       "    <tr style=\"text-align: right;\">\n",
       "      <th></th>\n",
       "      <th>overall_rating</th>\n",
       "    </tr>\n",
       "  </thead>\n",
       "  <tbody>\n",
       "    <tr>\n",
       "      <th>count</th>\n",
       "      <td>59517.000000</td>\n",
       "    </tr>\n",
       "    <tr>\n",
       "      <th>mean</th>\n",
       "      <td>68.635818</td>\n",
       "    </tr>\n",
       "    <tr>\n",
       "      <th>std</th>\n",
       "      <td>7.041297</td>\n",
       "    </tr>\n",
       "    <tr>\n",
       "      <th>min</th>\n",
       "      <td>33.000000</td>\n",
       "    </tr>\n",
       "    <tr>\n",
       "      <th>25%</th>\n",
       "      <td>64.000000</td>\n",
       "    </tr>\n",
       "    <tr>\n",
       "      <th>50%</th>\n",
       "      <td>69.000000</td>\n",
       "    </tr>\n",
       "    <tr>\n",
       "      <th>75%</th>\n",
       "      <td>73.000000</td>\n",
       "    </tr>\n",
       "    <tr>\n",
       "      <th>max</th>\n",
       "      <td>94.000000</td>\n",
       "    </tr>\n",
       "  </tbody>\n",
       "</table>\n",
       "</div>"
      ],
      "text/plain": [
       "       overall_rating\n",
       "count    59517.000000\n",
       "mean        68.635818\n",
       "std          7.041297\n",
       "min         33.000000\n",
       "25%         64.000000\n",
       "50%         69.000000\n",
       "75%         73.000000\n",
       "max         94.000000"
      ]
     },
     "execution_count": 18,
     "metadata": {},
     "output_type": "execute_result"
    }
   ],
   "source": [
    "#predicting values on test data\n",
    "y_test.describe()\n"
   ]
  },
  {
   "cell_type": "markdown",
   "metadata": {},
   "source": [
    "Root mean square error"
   ]
  },
  {
   "cell_type": "code",
   "execution_count": 19,
   "metadata": {},
   "outputs": [
    {
     "name": "stdout",
     "output_type": "stream",
     "text": [
      "2.8053030468552227\n"
     ]
    }
   ],
   "source": [
    "RMSE = sqrt(mean_squared_error(y_true = y_test, y_pred = y_prediction))\n",
    "print(RMSE)"
   ]
  },
  {
   "cell_type": "markdown",
   "metadata": {},
   "source": [
    "Another Regression model : DECISION TREE REGRESSOR"
   ]
  },
  {
   "cell_type": "code",
   "execution_count": 20,
   "metadata": {},
   "outputs": [
    {
     "data": {
      "text/plain": [
       "DecisionTreeRegressor(ccp_alpha=0.0, criterion='mse', max_depth=30,\n",
       "                      max_features=None, max_leaf_nodes=None,\n",
       "                      min_impurity_decrease=0.0, min_impurity_split=None,\n",
       "                      min_samples_leaf=1, min_samples_split=2,\n",
       "                      min_weight_fraction_leaf=0.0, presort='deprecated',\n",
       "                      random_state=None, splitter='best')"
      ]
     },
     "execution_count": 20,
     "metadata": {},
     "output_type": "execute_result"
    }
   ],
   "source": [
    "reg = DecisionTreeRegressor(max_depth=30)\n",
    "reg.fit(X_train, y_train)"
   ]
  },
  {
   "cell_type": "code",
   "execution_count": 21,
   "metadata": {},
   "outputs": [
    {
     "data": {
      "text/plain": [
       "array([62.        , 84.        , 62.14285714, ..., 71.        ,\n",
       "       62.        , 73.        ])"
      ]
     },
     "execution_count": 21,
     "metadata": {},
     "output_type": "execute_result"
    }
   ],
   "source": [
    "y_pred = reg.predict(X_test)\n",
    "y_pred"
   ]
  },
  {
   "cell_type": "code",
   "execution_count": 22,
   "metadata": {},
   "outputs": [],
   "source": [
    "RMSEe = sqrt(mean_squared_error(y_true = y_test, y_pred = y_pred))"
   ]
  },
  {
   "cell_type": "code",
   "execution_count": 23,
   "metadata": {},
   "outputs": [
    {
     "data": {
      "text/plain": [
       "1.4345820552278437"
      ]
     },
     "execution_count": 23,
     "metadata": {},
     "output_type": "execute_result"
    }
   ],
   "source": [
    "RMSEe"
   ]
  },
  {
   "cell_type": "markdown",
   "metadata": {},
   "source": [
    "# Neural Network"
   ]
  },
  {
   "cell_type": "code",
   "execution_count": 64,
   "metadata": {},
   "outputs": [],
   "source": [
    "#solution with neural networks\n",
    "#import libraries\n",
    "import tensorflow as tf\n",
    "import keras\n",
    "from keras.models import Sequential\n",
    "from keras.layers import Dense,Dropout"
   ]
  },
  {
   "cell_type": "code",
   "execution_count": 65,
   "metadata": {},
   "outputs": [
    {
     "name": "stdout",
     "output_type": "stream",
     "text": [
      "(120837, 34) (120837, 1)\n"
     ]
    }
   ],
   "source": [
    "print(X_train.shape, y_train.shape)"
   ]
  },
  {
   "cell_type": "code",
   "execution_count": 78,
   "metadata": {},
   "outputs": [],
   "source": [
    "def create_model():\n",
    "    model = Sequential()\n",
    "\n",
    "    model.add(Dense(32,activation=\"relu\",input_dim=34))\n",
    "    model.add(Dense(64,activation=\"relu\"))\n",
    "    model.add(Dense(64,activation=\"relu\"))\n",
    "    model.add(Dense(128,activation=\"relu\"))\n",
    "    model.add(Dense(1))\n",
    "    \n",
    "    return model"
   ]
  },
  {
   "cell_type": "code",
   "execution_count": 79,
   "metadata": {},
   "outputs": [
    {
     "name": "stdout",
     "output_type": "stream",
     "text": [
      "Model: \"sequential_8\"\n",
      "_________________________________________________________________\n",
      "Layer (type)                 Output Shape              Param #   \n",
      "=================================================================\n",
      "dense_31 (Dense)             (None, 32)                1120      \n",
      "_________________________________________________________________\n",
      "dense_32 (Dense)             (None, 64)                2112      \n",
      "_________________________________________________________________\n",
      "dense_33 (Dense)             (None, 64)                4160      \n",
      "_________________________________________________________________\n",
      "dense_34 (Dense)             (None, 128)               8320      \n",
      "_________________________________________________________________\n",
      "dense_35 (Dense)             (None, 1)                 129       \n",
      "=================================================================\n",
      "Total params: 15,841\n",
      "Trainable params: 15,841\n",
      "Non-trainable params: 0\n",
      "_________________________________________________________________\n"
     ]
    }
   ],
   "source": [
    "model=create_model()\n",
    "model.summary()"
   ]
  },
  {
   "cell_type": "code",
   "execution_count": 80,
   "metadata": {},
   "outputs": [
    {
     "name": "stdout",
     "output_type": "stream",
     "text": [
      "Train on 108753 samples, validate on 12084 samples\n",
      "Epoch 1/30\n",
      "108753/108753 [==============================] - 5s 50us/step - loss: 15.7116 - mae: 2.9620 - mse: 15.7116 - val_loss: 5.4786 - val_mae: 1.9481 - val_mse: 5.4786\n",
      "Epoch 2/30\n",
      "108753/108753 [==============================] - 5s 46us/step - loss: 7.0535 - mae: 2.1514 - mse: 7.0535 - val_loss: 5.9569 - val_mae: 2.0956 - val_mse: 5.9569\n",
      "Epoch 3/30\n",
      "108753/108753 [==============================] - 5s 46us/step - loss: 5.5425 - mae: 1.8866 - mse: 5.5425 - val_loss: 4.3178 - val_mae: 1.7351 - val_mse: 4.3178\n",
      "Epoch 4/30\n",
      "108753/108753 [==============================] - 5s 47us/step - loss: 4.9082 - mae: 1.7711 - mse: 4.9082 - val_loss: 3.9900 - val_mae: 1.5963 - val_mse: 3.9900\n",
      "Epoch 5/30\n",
      "108753/108753 [==============================] - 5s 49us/step - loss: 4.3308 - mae: 1.6530 - mse: 4.3308 - val_loss: 8.4948 - val_mae: 2.6198 - val_mse: 8.4948\n",
      "Epoch 6/30\n",
      "108753/108753 [==============================] - 6s 51us/step - loss: 3.9642 - mae: 1.5743 - mse: 3.9642 - val_loss: 1.9056 - val_mae: 1.0097 - val_mse: 1.9056\n",
      "Epoch 7/30\n",
      "108753/108753 [==============================] - 5s 48us/step - loss: 3.6808 - mae: 1.5040 - mse: 3.6808 - val_loss: 4.0235 - val_mae: 1.5770 - val_mse: 4.0235\n",
      "Epoch 8/30\n",
      "108753/108753 [==============================] - 6s 51us/step - loss: 3.5166 - mae: 1.4774 - mse: 3.5166 - val_loss: 2.3009 - val_mae: 1.1501 - val_mse: 2.3009\n",
      "Epoch 9/30\n",
      "108753/108753 [==============================] - 6s 54us/step - loss: 3.4426 - mae: 1.4578 - mse: 3.4426 - val_loss: 2.7179 - val_mae: 1.3196 - val_mse: 2.7179\n",
      "Epoch 10/30\n",
      "108753/108753 [==============================] - 5s 49us/step - loss: 3.3307 - mae: 1.4334 - mse: 3.3307 - val_loss: 1.6763 - val_mae: 0.9612 - val_mse: 1.6763\n",
      "Epoch 11/30\n",
      "108753/108753 [==============================] - 6s 54us/step - loss: 3.2585 - mae: 1.4073 - mse: 3.2585 - val_loss: 2.1869 - val_mae: 1.1171 - val_mse: 2.1869\n",
      "Epoch 12/30\n",
      "108753/108753 [==============================] - 5s 47us/step - loss: 3.1976 - mae: 1.3986 - mse: 3.1976 - val_loss: 2.1204 - val_mae: 1.0905 - val_mse: 2.1204\n",
      "Epoch 13/30\n",
      "108753/108753 [==============================] - 5s 46us/step - loss: 3.1148 - mae: 1.3711 - mse: 3.1148 - val_loss: 4.2823 - val_mae: 1.8151 - val_mse: 4.2823\n",
      "Epoch 14/30\n",
      "108753/108753 [==============================] - 6s 51us/step - loss: 3.0764 - mae: 1.3645 - mse: 3.0764 - val_loss: 4.2424 - val_mae: 1.6900 - val_mse: 4.2424\n",
      "Epoch 15/30\n",
      "108753/108753 [==============================] - 6s 51us/step - loss: 3.0122 - mae: 1.3541 - mse: 3.0122 - val_loss: 1.7947 - val_mae: 1.0238 - val_mse: 1.7947\n",
      "Epoch 16/30\n",
      "108753/108753 [==============================] - 5s 49us/step - loss: 2.9583 - mae: 1.3335 - mse: 2.9583 - val_loss: 6.7701 - val_mae: 2.3726 - val_mse: 6.7701\n",
      "Epoch 17/30\n",
      "108753/108753 [==============================] - 5s 47us/step - loss: 2.9261 - mae: 1.3251 - mse: 2.9261 - val_loss: 2.8521 - val_mae: 1.3256 - val_mse: 2.8521\n",
      "Epoch 18/30\n",
      "108753/108753 [==============================] - 5s 50us/step - loss: 2.8352 - mae: 1.3029 - mse: 2.8352 - val_loss: 1.8100 - val_mae: 1.0296 - val_mse: 1.8100\n",
      "Epoch 19/30\n",
      "108753/108753 [==============================] - 6s 51us/step - loss: 2.7812 - mae: 1.2854 - mse: 2.7812 - val_loss: 2.1948 - val_mae: 1.1240 - val_mse: 2.1948\n",
      "Epoch 20/30\n",
      "108753/108753 [==============================] - 5s 46us/step - loss: 2.7432 - mae: 1.2776 - mse: 2.7432 - val_loss: 1.4665 - val_mae: 0.8512 - val_mse: 1.4665\n",
      "Epoch 21/30\n",
      "108753/108753 [==============================] - 5s 49us/step - loss: 2.6929 - mae: 1.2657 - mse: 2.6929 - val_loss: 2.7097 - val_mae: 1.2875 - val_mse: 2.7097\n",
      "Epoch 22/30\n",
      "108753/108753 [==============================] - 5s 46us/step - loss: 2.6444 - mae: 1.2521 - mse: 2.6444 - val_loss: 2.1631 - val_mae: 1.1039 - val_mse: 2.1631\n",
      "Epoch 23/30\n",
      "108753/108753 [==============================] - 5s 49us/step - loss: 2.6019 - mae: 1.2387 - mse: 2.6018 - val_loss: 1.8248 - val_mae: 0.9473 - val_mse: 1.8248\n",
      "Epoch 24/30\n",
      "108753/108753 [==============================] - 5s 47us/step - loss: 2.5644 - mae: 1.2279 - mse: 2.5644 - val_loss: 2.8328 - val_mae: 1.3419 - val_mse: 2.8328\n",
      "Epoch 25/30\n",
      "108753/108753 [==============================] - 5s 48us/step - loss: 2.5389 - mae: 1.2182 - mse: 2.5389 - val_loss: 2.1842 - val_mae: 1.0946 - val_mse: 2.1842\n",
      "Epoch 26/30\n",
      "108753/108753 [==============================] - 5s 50us/step - loss: 2.5350 - mae: 1.2194 - mse: 2.5350 - val_loss: 2.4556 - val_mae: 1.2137 - val_mse: 2.4556\n",
      "Epoch 27/30\n",
      "108753/108753 [==============================] - 5s 47us/step - loss: 2.5041 - mae: 1.2096 - mse: 2.5041 - val_loss: 1.3563 - val_mae: 0.8052 - val_mse: 1.3563\n",
      "Epoch 28/30\n",
      "108753/108753 [==============================] - 5s 48us/step - loss: 2.5041 - mae: 1.2109 - mse: 2.5041 - val_loss: 2.1707 - val_mae: 1.0848 - val_mse: 2.1707\n",
      "Epoch 29/30\n",
      "108753/108753 [==============================] - 5s 48us/step - loss: 2.4736 - mae: 1.2000 - mse: 2.4736 - val_loss: 1.7055 - val_mae: 0.9215 - val_mse: 1.7055\n",
      "Epoch 30/30\n",
      "108753/108753 [==============================] - 5s 47us/step - loss: 2.4483 - mae: 1.1903 - mse: 2.4483 - val_loss: 1.8915 - val_mae: 1.0218 - val_mse: 1.8915\n"
     ]
    },
    {
     "data": {
      "text/plain": [
       "<keras.callbacks.callbacks.History at 0x206818d25c8>"
      ]
     },
     "execution_count": 80,
     "metadata": {},
     "output_type": "execute_result"
    }
   ],
   "source": [
    "early_stop = keras.callbacks.EarlyStopping(monitor='val_loss', patience=10)\n",
    "model.compile(optimizer='RMSprop', loss='mse', metrics=['mae', 'mse'])\n",
    "model.fit(X_train, y_train,epochs=30,validation_split = 0.1,callbacks=[early_stop])"
   ]
  },
  {
   "cell_type": "code",
   "execution_count": 70,
   "metadata": {},
   "outputs": [
    {
     "name": "stdout",
     "output_type": "stream",
     "text": [
      "59517/59517 [==============================] - 1s 18us/step\n"
     ]
    },
    {
     "data": {
      "text/plain": [
       "[1.6355622497892333, 0.3752037286758423]"
      ]
     },
     "execution_count": 70,
     "metadata": {},
     "output_type": "execute_result"
    }
   ],
   "source": [
    "model.evaluate( X_test, y_test )"
   ]
  },
  {
   "cell_type": "code",
   "execution_count": 81,
   "metadata": {},
   "outputs": [],
   "source": [
    "y_pred=model.predict(X_test)\n",
    "RMSEe = sqrt(mean_squared_error(y_true = y_test, y_pred = y_pred))"
   ]
  },
  {
   "cell_type": "code",
   "execution_count": 82,
   "metadata": {},
   "outputs": [
    {
     "data": {
      "text/plain": [
       "1.3919745569537139"
      ]
     },
     "execution_count": 82,
     "metadata": {},
     "output_type": "execute_result"
    }
   ],
   "source": [
    "RMSEe"
   ]
  },
  {
   "cell_type": "code",
   "execution_count": null,
   "metadata": {},
   "outputs": [],
   "source": []
  }
 ],
 "metadata": {
  "kernelspec": {
   "display_name": "Python 3",
   "language": "python",
   "name": "python3"
  },
  "language_info": {
   "codemirror_mode": {
    "name": "ipython",
    "version": 3
   },
   "file_extension": ".py",
   "mimetype": "text/x-python",
   "name": "python",
   "nbconvert_exporter": "python",
   "pygments_lexer": "ipython3",
   "version": "3.7.6"
  }
 },
 "nbformat": 4,
 "nbformat_minor": 4
}
